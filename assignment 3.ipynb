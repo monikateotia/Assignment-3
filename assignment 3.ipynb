{
 "cells": [
  {
   "cell_type": "markdown",
   "id": "fb780f83-9ec9-4f12-8ee0-baec56fc15f9",
   "metadata": {},
   "source": [
    "Q 1-Explane with an example each when to use a for loop and a while loop."
   ]
  },
  {
   "cell_type": "markdown",
   "id": "6bfe7b27-fdac-4b02-b552-75f547795df9",
   "metadata": {},
   "source": [
    "ANS-A for loop repeats used for iterating over a sequence (that is either a list,a tuple,a dictonary,a set or a string)"
   ]
  },
  {
   "cell_type": "markdown",
   "id": "c14ed393-77b9-4f37-bfa6-420511a6c3a9",
   "metadata": {},
   "source": [
    "FOR EX.-"
   ]
  },
  {
   "cell_type": "code",
   "execution_count": 2,
   "id": "17b6ccfa-a7da-42bc-bfe6-d843020f9c0c",
   "metadata": {},
   "outputs": [
    {
     "name": "stdout",
     "output_type": "stream",
     "text": [
      "1\n",
      "2\n",
      "3\n",
      "4\n",
      "5\n",
      "6\n",
      "10\n"
     ]
    }
   ],
   "source": [
    "m=[1,2,3,4,5,6,10]\n",
    "for i in m :\n",
    "    print(i)"
   ]
  },
  {
   "cell_type": "markdown",
   "id": "b0cec088-1586-4b0c-82f7-e0b8bf355e37",
   "metadata": {},
   "source": [
    "WHILE LOOP -while loop is used to run a block code untill a certain condition is met.if the condition\n",
    "evaluates to true ,the code inside the while loop is executed."
   ]
  },
  {
   "cell_type": "code",
   "execution_count": 2,
   "id": "3372d611-9d1e-48ed-a24d-4b5487810f86",
   "metadata": {},
   "outputs": [
    {
     "name": "stdout",
     "output_type": "stream",
     "text": [
      "1\n",
      "2\n",
      "3\n",
      "4\n",
      "5\n"
     ]
    }
   ],
   "source": [
    "a=1\n",
    "while a<=5 :\n",
    "    print(a)\n",
    "    a=a+1"
   ]
  },
  {
   "cell_type": "markdown",
   "id": "b16bf4e7-7976-426f-a67b-df173691bb87",
   "metadata": {},
   "source": [
    "Q2-Write a python program to print the sum and product of the first 10 natural numbers using for and while loop."
   ]
  },
  {
   "cell_type": "markdown",
   "id": "3c49107e-f3b6-4b6b-93d2-91f2fe7bbede",
   "metadata": {},
   "source": [
    "By for loop -"
   ]
  },
  {
   "cell_type": "code",
   "execution_count": 1,
   "id": "bad50824-e1ee-43ca-9c48-1b4b89d26f44",
   "metadata": {},
   "outputs": [
    {
     "data": {
      "text/plain": [
       "55"
      ]
     },
     "execution_count": 1,
     "metadata": {},
     "output_type": "execute_result"
    }
   ],
   "source": [
    "m=[1,2,3,4,5,6,7,8,9,10]\n",
    "result=0\n",
    "for i in m :\n",
    "    result =result +i\n",
    "result\n"
   ]
  },
  {
   "cell_type": "markdown",
   "id": "b88420a8-c0a5-4bb3-b60a-88035d49688e",
   "metadata": {},
   "source": [
    "PRODUCT OF 10 NATURAL NUMBERS-"
   ]
  },
  {
   "cell_type": "code",
   "execution_count": 2,
   "id": "700a67b2-6f6a-4410-b341-5c6bef77d594",
   "metadata": {},
   "outputs": [
    {
     "data": {
      "text/plain": [
       "3628800"
      ]
     },
     "execution_count": 2,
     "metadata": {},
     "output_type": "execute_result"
    }
   ],
   "source": [
    "n=[1,2,3,4,5,6,7,8,9,10]\n",
    "result =1\n",
    "for i in n :\n",
    "    result =result*i\n",
    "result    "
   ]
  },
  {
   "cell_type": "markdown",
   "id": "b38c5241-6269-4cbb-b96e-822c23b765f4",
   "metadata": {},
   "source": [
    "BY USING WHILE LOOP PRUDUCT OF 10 NATURAL NUMBERS-"
   ]
  },
  {
   "cell_type": "code",
   "execution_count": 4,
   "id": "6d6c155f-9f31-4d37-ba38-0bd35b363186",
   "metadata": {},
   "outputs": [
    {
     "data": {
      "text/plain": [
       "55"
      ]
     },
     "execution_count": 4,
     "metadata": {},
     "output_type": "execute_result"
    }
   ],
   "source": [
    "starting_point =0\n",
    "counter =1\n",
    "while counter <=10 :\n",
    "    starting_point =starting_point + counter\n",
    "    counter =counter +1\n",
    "starting_point    "
   ]
  },
  {
   "cell_type": "markdown",
   "id": "2d54e943-ed58-45f2-a054-d291e1515b5c",
   "metadata": {},
   "source": [
    "BY USING WHILE LOOP MULTIPLICATON OF 10 NATURAL NUMBERS"
   ]
  },
  {
   "cell_type": "code",
   "execution_count": 6,
   "id": "35bb40e6-936e-4324-8792-e9d79a12ee4a",
   "metadata": {},
   "outputs": [
    {
     "data": {
      "text/plain": [
       "3628800"
      ]
     },
     "execution_count": 6,
     "metadata": {},
     "output_type": "execute_result"
    }
   ],
   "source": [
    "starting_point =1\n",
    "counter =2\n",
    "while counter <=10 :\n",
    "    starting_point=starting_point*counter\n",
    "    counter =counter+1\n",
    "starting_point    "
   ]
  },
  {
   "cell_type": "markdown",
   "id": "97a64c79-391d-4036-b49d-792e9b8dcccf",
   "metadata": {},
   "source": [
    "Q3-Create a python program to compute the electricity bill for a house hold.\n",
    "the per unit charges in rupees are as follows:for the first 100 units,the user will be charged Rs.4.5\n",
    "per unit,for the next 100 units,the user will be charged Rs 6 per unit ,and for the next 100 units,the user will be \n",
    "charged Rs. 10 per unit ,after 300 units and above the user will be charged rs.20 per unit .\n",
    "\n",
    "you are required to take the units of electricity consumed in a month from the user as input.\n",
    "\n",
    "your program must pass this test case :when the unit of electricity consumed by the user in a month is 310\n",
    ",the total electricity bill should be 2250."
   ]
  },
  {
   "cell_type": "markdown",
   "id": "35107011-bf67-446c-94bc-8fdb932adf2f",
   "metadata": {},
   "source": [
    "ANS-PYTHON PROGRAM FOR ELECTRICITY BILL-"
   ]
  },
  {
   "cell_type": "code",
   "execution_count": 1,
   "id": "ae73fd81-3273-414b-8864-2bacd228733e",
   "metadata": {},
   "outputs": [
    {
     "name": "stdin",
     "output_type": "stream",
     "text": [
      "enter your monthly electricity units 310\n"
     ]
    },
    {
     "name": "stdout",
     "output_type": "stream",
     "text": [
      "your electricity bill is Rs. 2250\n"
     ]
    }
   ],
   "source": [
    "units=int(input('enter your monthly electricity units'))\n",
    "price=0\n",
    "while units==range(0,301) :\n",
    "    if units<=100:\n",
    "        price=price+units*4.5\n",
    "    elif units>100 and units<=200 :\n",
    "        price=price+450+(units-100)*6\n",
    "    elif units>200 and units<=300:\n",
    "        price =price+450+600+(units-200)*10\n",
    "else:\n",
    "    price=price+450+600+1000+(units-300)*20\n",
    "        \n",
    "    print('your electricity bill is Rs.',price)"
   ]
  },
  {
   "cell_type": "markdown",
   "id": "1bcc8356-26d5-4658-92ab-631b2232de29",
   "metadata": {},
   "source": [
    "Q 4-Create a list of numbers from 1 to 100 .use for loop and while loop to calculate the cube of each \n",
    "number and if the cube of that number is divisable by 4 or 5 than append that number in a list and \n",
    "print that list."
   ]
  },
  {
   "cell_type": "markdown",
   "id": "f201860c-b107-46bf-b5ce-e8d6645faf22",
   "metadata": {},
   "source": [
    "USING FOR LOOP FOR SOLVE THE PROBLEM-"
   ]
  },
  {
   "cell_type": "code",
   "execution_count": 19,
   "id": "6280437f-a831-4156-bb09-858d688e09d6",
   "metadata": {},
   "outputs": [
    {
     "data": {
      "text/plain": [
       "[2,\n",
       " 4,\n",
       " 5,\n",
       " 6,\n",
       " 8,\n",
       " 10,\n",
       " 12,\n",
       " 14,\n",
       " 15,\n",
       " 16,\n",
       " 18,\n",
       " 20,\n",
       " 22,\n",
       " 24,\n",
       " 25,\n",
       " 26,\n",
       " 28,\n",
       " 30,\n",
       " 32,\n",
       " 34,\n",
       " 35,\n",
       " 36,\n",
       " 38,\n",
       " 40,\n",
       " 42,\n",
       " 44,\n",
       " 45,\n",
       " 46,\n",
       " 48,\n",
       " 50,\n",
       " 52,\n",
       " 54,\n",
       " 55,\n",
       " 56,\n",
       " 58,\n",
       " 60,\n",
       " 62,\n",
       " 64,\n",
       " 65,\n",
       " 66,\n",
       " 68,\n",
       " 70,\n",
       " 72,\n",
       " 74,\n",
       " 75,\n",
       " 76,\n",
       " 78,\n",
       " 80,\n",
       " 82,\n",
       " 84,\n",
       " 85,\n",
       " 86,\n",
       " 88,\n",
       " 90,\n",
       " 92,\n",
       " 94,\n",
       " 95,\n",
       " 96,\n",
       " 98,\n",
       " 100]"
      ]
     },
     "execution_count": 19,
     "metadata": {},
     "output_type": "execute_result"
    }
   ],
   "source": [
    "m=list(range(1,101))\n",
    "l1=[]\n",
    "for i in m :\n",
    "    a=i**3\n",
    "    if a %4==0 or a%5==0 :\n",
    "        l1.append(i)\n",
    "l1\n",
    "    \n",
    "        "
   ]
  },
  {
   "cell_type": "markdown",
   "id": "f302690a-1cc1-48a1-94fd-994e73ca4ecb",
   "metadata": {},
   "source": [
    "USING WHILE LOOP FOR SOLVE THE PROBLEM"
   ]
  },
  {
   "cell_type": "code",
   "execution_count": 3,
   "id": "850f0ab3-99f0-4811-afff-5941ad01b888",
   "metadata": {},
   "outputs": [
    {
     "data": {
      "text/plain": [
       "[2,\n",
       " 4,\n",
       " 5,\n",
       " 6,\n",
       " 8,\n",
       " 10,\n",
       " 12,\n",
       " 14,\n",
       " 15,\n",
       " 16,\n",
       " 18,\n",
       " 20,\n",
       " 22,\n",
       " 24,\n",
       " 25,\n",
       " 26,\n",
       " 28,\n",
       " 30,\n",
       " 32,\n",
       " 34,\n",
       " 35,\n",
       " 36,\n",
       " 38,\n",
       " 40,\n",
       " 42,\n",
       " 44,\n",
       " 45,\n",
       " 46,\n",
       " 48,\n",
       " 50,\n",
       " 52,\n",
       " 54,\n",
       " 55,\n",
       " 56,\n",
       " 58,\n",
       " 60,\n",
       " 62,\n",
       " 64,\n",
       " 65,\n",
       " 66,\n",
       " 68,\n",
       " 70,\n",
       " 72,\n",
       " 74,\n",
       " 75,\n",
       " 76,\n",
       " 78,\n",
       " 80,\n",
       " 82,\n",
       " 84,\n",
       " 85,\n",
       " 86,\n",
       " 88,\n",
       " 90,\n",
       " 92,\n",
       " 94,\n",
       " 95,\n",
       " 96,\n",
       " 98,\n",
       " 100]"
      ]
     },
     "execution_count": 3,
     "metadata": {},
     "output_type": "execute_result"
    }
   ],
   "source": [
    "l1=[]\n",
    "a=1\n",
    "while a<=100 :\n",
    "    b=a**3\n",
    "    if b %4==0 or b%5==0 :\n",
    "        l1.append(a)\n",
    "    a=a+1\n",
    "l1\n",
    "        "
   ]
  },
  {
   "cell_type": "markdown",
   "id": "1e10a7c8-8c6a-4374-b118-345c2a6eaaa7",
   "metadata": {},
   "source": [
    "Q 5-Write a program to filter count vowels in below given string.string=\"I want to become a data scientist\""
   ]
  },
  {
   "cell_type": "code",
   "execution_count": 2,
   "id": "8d402e86-f617-4986-b686-4f3ecb6cbf72",
   "metadata": {},
   "outputs": [
    {
     "data": {
      "text/plain": [
       "['i', 'a', 'o', 'e', 'o', 'e', 'a', 'a', 'a', 'i', 'e', 'i']"
      ]
     },
     "execution_count": 2,
     "metadata": {},
     "output_type": "execute_result"
    }
   ],
   "source": [
    "string='i want to become a data scientist'\n",
    "list(filter(lambda x :  x=='a'or x=='e' or x=='i' or x=='o' or x=='u' ,string))"
   ]
  },
  {
   "cell_type": "code",
   "execution_count": null,
   "id": "969eb293-bf3f-4e3d-ab1d-8af1c6484474",
   "metadata": {},
   "outputs": [],
   "source": [
    "                           *"
   ]
  }
 ],
 "metadata": {
  "kernelspec": {
   "display_name": "Python 3 (ipykernel)",
   "language": "python",
   "name": "python3"
  },
  "language_info": {
   "codemirror_mode": {
    "name": "ipython",
    "version": 3
   },
   "file_extension": ".py",
   "mimetype": "text/x-python",
   "name": "python",
   "nbconvert_exporter": "python",
   "pygments_lexer": "ipython3",
   "version": "3.10.8"
  }
 },
 "nbformat": 4,
 "nbformat_minor": 5
}
